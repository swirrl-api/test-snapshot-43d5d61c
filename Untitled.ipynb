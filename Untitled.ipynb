{
 "cells": [
  {
   "cell_type": "code",
   "execution_count": 1,
   "id": "synthetic-deviation",
   "metadata": {},
   "outputs": [
    {
     "name": "stderr",
     "output_type": "stream",
     "text": [
      "2021-02-24 14:25:49,206    ********************************************************************************************\n",
      "2021-02-24 14:25:49,207    *                                                                                          *\n",
      "2021-02-24 14:25:49,208    *          icclim                                                            V4.2.15       *\n",
      "2021-02-24 14:25:49,208    *                                                                                          *\n",
      "2021-02-24 14:25:49,209    *                                                                                          *\n",
      "2021-02-24 14:25:49,209    *          Wed Feb 24 14:25:49 2021 GMT                                                    *\n",
      "2021-02-24 14:25:49,211    *                                                                                          *\n",
      "2021-02-24 14:25:49,212    *          BEGIN EXECUTION                                                                 *\n",
      "2021-02-24 14:25:49,212    *                                                                                          *\n",
      "2021-02-24 14:25:49,213    ********************************************************************************************\n",
      "2021-02-24 14:25:49,323 Loading data...\n",
      "2021-02-24 14:25:51,765    ********************************************************************************************\n",
      "2021-02-24 14:25:51,766    *                                                                                          *\n",
      "2021-02-24 14:25:51,766    *          icclim                                                            V4.2.15       *\n",
      "2021-02-24 14:25:51,767    *                                                                                          *\n",
      "2021-02-24 14:25:51,768    *                                                                                          *\n",
      "2021-02-24 14:25:51,768    *          Wed Feb 24 14:25:51 2021 GMT                                                    *\n",
      "2021-02-24 14:25:51,769    *                                                                                          *\n",
      "2021-02-24 14:25:51,769    *          END EXECUTION                                                                   *\n",
      "2021-02-24 14:25:51,770    *                                                                                          *\n",
      "2021-02-24 14:25:51,770    *          CP SECS = 2.504                                                                 *\n",
      "2021-02-24 14:25:51,771    *                                                                                          *\n",
      "2021-02-24 14:25:51,772    ********************************************************************************************\n"
     ]
    },
    {
     "data": {
      "text/plain": [
       "'SU_JJA_CNRM-CM5_historical_r1i1p1_1998-2005.nc'"
      ]
     },
     "execution_count": 1,
     "metadata": {},
     "output_type": "execute_result"
    }
   ],
   "source": [
    "from icclim import icclim\n",
    "import datetime\n",
    "\n",
    "files = ['tasmax_day_CNRM-CM5_historical_r1i1p1_19950101-19991231.nc', 'tasmax_day_CNRM-CM5_historical_r1i1p1_20000101-20041231.nc', 'tasmax_day_CNRM-CM5_historical_r1i1p1_20050101-20051231.nc']\n",
    "\n",
    "dt1 = datetime.datetime(1998,1,1)\n",
    "dt2 = datetime.datetime(2005,12,31)\n",
    "\n",
    "out_f = 'SU_JJA_CNRM-CM5_historical_r1i1p1_1998-2005.nc' # OUTPUT FILE: summer season values of SU\n",
    "\n",
    "icclim.indice(indice_name='SU', in_files=files, var_name='tasmax', time_range=[dt1, dt2], slice_mode='JJA', out_file=out_f)"
   ]
  }
 ],
 "metadata": {
  "kernelspec": {
   "display_name": "Python 3",
   "language": "python",
   "name": "python3"
  },
  "language_info": {
   "codemirror_mode": {
    "name": "ipython",
    "version": 3
   },
   "file_extension": ".py",
   "mimetype": "text/x-python",
   "name": "python",
   "nbconvert_exporter": "python",
   "pygments_lexer": "ipython3",
   "version": "3.8.6"
  }
 },
 "nbformat": 4,
 "nbformat_minor": 5
}
